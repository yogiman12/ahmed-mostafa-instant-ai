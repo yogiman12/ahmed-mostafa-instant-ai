{
 "cells": [
  {
   "cell_type": "markdown",
   "id": "113320ad",
   "metadata": {},
   "source": [
    "1.Write a function in recursion/iterative way"
   ]
  },
  {
   "cell_type": "code",
   "execution_count": 4,
   "id": "7f22a3b5",
   "metadata": {},
   "outputs": [
    {
     "name": "stdout",
     "output_type": "stream",
     "text": [
      "if you want to exite the  programe write agree:sd\n",
      "if you want to exite the  programe write agree:sdf\n",
      "if you want to exite the  programe write agree:exit\n",
      "Good Bye\n"
     ]
    }
   ],
   "source": [
    "#recursion code \n",
    "def exit ():\n",
    "    inp=str(input(\"if you want to exite the  programe write agree:\"))\n",
    "    if inp==\"exit\":\n",
    "        return print(\"Good Bye\")\n",
    "        \n",
    "    exit()\n",
    "exit()"
   ]
  },
  {
   "cell_type": "code",
   "execution_count": 8,
   "id": "77e8f19b",
   "metadata": {},
   "outputs": [
    {
     "name": "stdout",
     "output_type": "stream",
     "text": [
      "if you want to exite the  programe write agree:df\n",
      "if you want to exite the  programe write agree:fd\n",
      "if you want to exite the  programe write agree:fd\n",
      "if you want to exite the  programe write agree:exit\n",
      "Good bye\n"
     ]
    }
   ],
   "source": [
    "#Iteration code \n",
    "def exit ():\n",
    "    inp=\"\"\n",
    "    while inp != \"exit\":\n",
    "        inp=str(input(\"if you want to exite the  programe write agree:\"))\n",
    "        if inp==\"exit\":\n",
    "            return print(\"Good bye\")\n",
    "        \n",
    "exit()"
   ]
  },
  {
   "cell_type": "markdown",
   "id": "7f811e53",
   "metadata": {},
   "source": [
    "2.Code binary-search in python"
   ]
  },
  {
   "cell_type": "code",
   "execution_count": 11,
   "id": "70a932bf",
   "metadata": {},
   "outputs": [
    {
     "name": "stdout",
     "output_type": "stream",
     "text": [
      "enter number you want to sreach in array:2\n",
      "Element is present at index -1\n"
     ]
    }
   ],
   "source": [
    "def binarySearch(array, x, low, high):\n",
    "\n",
    "    if high >= low:\n",
    "\n",
    "        mid = low + (high - low)//2\n",
    "\n",
    "        if array[mid] == x:\n",
    "            return mid\n",
    "\n",
    "        elif array[mid] > x:\n",
    "            return binarySearch(array, x, low, mid-1)\n",
    "\n",
    "        else:\n",
    "            return binarySearch(array, x, mid + 1, high)\n",
    "\n",
    "    else:\n",
    "        return -1\n",
    "\n",
    "\n",
    "array = [3, 4, 5, 6, 7, 8, 9]\n",
    "x = 4\n",
    "\n",
    "result = binarySearch(array, x, 0, len(array)-1)\n",
    "\n",
    "if result != -1:\n",
    "    print(\"Element is present at index \" + str(result))\n",
    "else:\n",
    "    print(\"Not found\")\n"
   ]
  }
 ],
 "metadata": {
  "kernelspec": {
   "display_name": "Python 3 (ipykernel)",
   "language": "python",
   "name": "python3"
  },
  "language_info": {
   "codemirror_mode": {
    "name": "ipython",
    "version": 3
   },
   "file_extension": ".py",
   "mimetype": "text/x-python",
   "name": "python",
   "nbconvert_exporter": "python",
   "pygments_lexer": "ipython3",
   "version": "3.9.12"
  }
 },
 "nbformat": 4,
 "nbformat_minor": 5
}
