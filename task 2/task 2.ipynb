{
 "cells": [
  {
   "cell_type": "markdown",
   "id": "efce39ac",
   "metadata": {},
   "source": [
    "1-"
   ]
  },
  {
   "cell_type": "code",
   "execution_count": 1,
   "id": "fbdfdbbe",
   "metadata": {},
   "outputs": [
    {
     "name": "stdout",
     "output_type": "stream",
     "text": [
      "1505\n",
      "1540\n",
      "1575\n",
      "1610\n",
      "1645\n",
      "1680\n",
      "1715\n",
      "1750\n",
      "1785\n",
      "1820\n",
      "1855\n",
      "1890\n",
      "1925\n",
      "1960\n",
      "1995\n",
      "2030\n",
      "2065\n",
      "2100\n",
      "2135\n",
      "2170\n",
      "2205\n",
      "2240\n",
      "2275\n",
      "2310\n",
      "2345\n",
      "2380\n",
      "2415\n",
      "2450\n",
      "2485\n",
      "2520\n",
      "2555\n",
      "2590\n",
      "2625\n",
      "2660\n",
      "2695\n"
     ]
    }
   ],
   "source": [
    "for i in range(1500, 2701):\n",
    "    if i % 5 == 0 and (i/5) % 7 == 0:\n",
    "        print(i)"
   ]
  },
  {
   "cell_type": "markdown",
   "id": "1d84d4d9",
   "metadata": {},
   "source": [
    "2-"
   ]
  },
  {
   "cell_type": "code",
   "execution_count": 2,
   "id": "af40c3e4",
   "metadata": {},
   "outputs": [
    {
     "name": "stdout",
     "output_type": "stream",
     "text": [
      "enter temperature to convert celsius to fahrenheit:30\n",
      "the temerature with fahrenheit is 86.0F.\n"
     ]
    }
   ],
   "source": [
    "temp = float(input(\"enter temperature to convert celsius to fahrenheit:\"))\n",
    "#(30°C x 1.8) + 32 = 86°F\n",
    "new_temp = (temp*1.8)+32\n",
    "print(f'the temerature with fahrenheit is {new_temp}F.')"
   ]
  },
  {
   "cell_type": "markdown",
   "id": "5c016214",
   "metadata": {},
   "source": [
    "3-"
   ]
  },
  {
   "cell_type": "code",
   "execution_count": 64,
   "id": "6a2e1b92",
   "metadata": {},
   "outputs": [
    {
     "name": "stdout",
     "output_type": "stream",
     "text": [
      "\n",
      "*\n",
      "**\n",
      "***\n",
      "****\n",
      "*****\n",
      "****\n",
      "***\n",
      "**\n",
      "*\n",
      "\n"
     ]
    }
   ],
   "source": [
    "for i in range(1):\n",
    "\n",
    "    for p in range(6):\n",
    "        print(\"*\"*p)\n",
    "    for n in range(5):\n",
    "        cnt = 4-n\n",
    "        print(\"*\"*cnt)"
   ]
  },
  {
   "cell_type": "markdown",
   "id": "50a12f73",
   "metadata": {},
   "source": [
    "4-"
   ]
  },
  {
   "cell_type": "code",
   "execution_count": 3,
   "id": "def1597b",
   "metadata": {},
   "outputs": [
    {
     "name": "stdout",
     "output_type": "stream",
     "text": [
      "enter word to reverse:asser\n",
      "ressa\n"
     ]
    }
   ],
   "source": [
    "word = str(input(\"enter word to reverse:\"))\n",
    "rev = \"\"\n",
    "for i in range(1, len(word)+1):\n",
    "    rev += word[-i]\n",
    "print(rev)"
   ]
  },
  {
   "cell_type": "markdown",
   "id": "70546700",
   "metadata": {},
   "source": [
    "5-"
   ]
  },
  {
   "cell_type": "code",
   "execution_count": 3,
   "id": "21539fc0",
   "metadata": {},
   "outputs": [
    {
     "name": "stdout",
     "output_type": "stream",
     "text": [
      "enter three numbers\n",
      "enter frist number number:3\n",
      "enter second number number:4\n",
      "enter third number number:5\n",
      "second number is biggest5\n"
     ]
    }
   ],
   "source": [
    "print(\"enter three numbers\")\n",
    "num1 = int(input(\"enter frist number number:\"))\n",
    "num2 = int(input(\"enter second number number:\"))\n",
    "num3 = int(input(\"enter third number number:\"))\n",
    "def big(num1,num2,num3):\n",
    "    if num1 > num2 and num1 > num3:\n",
    "        return print(f\"frist number is biggest{num1}\")\n",
    "\n",
    "    elif num2 > num1 and num2 > num3:\n",
    "        return print(f\"second number is biggest{num2}\")\n",
    "\n",
    "    elif num3 > num1 and num3 > num2:\n",
    "        return print(f\"second number is biggest{num3}\")\n",
    "\n",
    "    else:\n",
    "        return print(f\"three numbers are equal {num1},{num2},{num3}\")\n",
    "big(num1,num2,num3)"
   ]
  },
  {
   "cell_type": "markdown",
   "id": "6e632f73",
   "metadata": {},
   "source": [
    "6-"
   ]
  },
  {
   "cell_type": "code",
   "execution_count": 8,
   "id": "225fa297",
   "metadata": {},
   "outputs": [
    {
     "data": {
      "text/plain": [
       "10"
      ]
     },
     "execution_count": 8,
     "metadata": {},
     "output_type": "execute_result"
    }
   ],
   "source": [
    "def sum_num(ls):\n",
    "    sum_ls = 0\n",
    "    for i in range(0, len(ls)):\n",
    "        sum_ls = sum_ls + ls[i]\n",
    "    return sum_ls\n",
    "\n",
    "\n",
    "list = [1, 2, 3, 4]\n",
    "sum_num(list)"
   ]
  },
  {
   "cell_type": "markdown",
   "id": "6ca78f99",
   "metadata": {},
   "source": [
    "7-"
   ]
  },
  {
   "cell_type": "code",
   "execution_count": 16,
   "id": "293cf4a2",
   "metadata": {},
   "outputs": [
    {
     "name": "stdout",
     "output_type": "stream",
     "text": [
      "0\n",
      "1\n",
      "2\n",
      "4\n",
      "5\n"
     ]
    }
   ],
   "source": [
    "for i in range(0, 6+1):\n",
    "    if i != 3 and i != 6:\n",
    "        print(i)\n",
    "    else:\n",
    "        continue"
   ]
  },
  {
   "cell_type": "markdown",
   "id": "bd2a1fd2",
   "metadata": {},
   "source": [
    "8-"
   ]
  },
  {
   "cell_type": "code",
   "execution_count": 24,
   "id": "266bd92a",
   "metadata": {
    "scrolled": true
   },
   "outputs": [
    {
     "data": {
      "text/plain": [
       "120"
      ]
     },
     "execution_count": 24,
     "metadata": {},
     "output_type": "execute_result"
    }
   ],
   "source": [
    "def fac(num):\n",
    "    fac_num = 1\n",
    "    for i in range(1, num+1):\n",
    "        fac_num *= i\n",
    "    return fac_num\n",
    "\n",
    "inp=int(input(\"Input a number to compute the factiorial : \"))\n",
    "fac(inp)"
   ]
  },
  {
   "cell_type": "markdown",
   "id": "358299a3",
   "metadata": {},
   "source": [
    "9-"
   ]
  },
  {
   "cell_type": "code",
   "execution_count": 26,
   "id": "6eba8fd1",
   "metadata": {},
   "outputs": [
    {
     "name": "stdout",
     "output_type": "stream",
     "text": [
      "[1, 2, 3, 4, 5]\n"
     ]
    }
   ],
   "source": [
    "def unique(ls):\n",
    "    ul = []\n",
    "    for cell in ls:\n",
    "        if cell not in ul:\n",
    "            ul.append(cell)\n",
    "    return ul\n",
    "\n",
    "\n",
    "print(unique([1, 2, 3, 3, 3, 3, 4, 5]))"
   ]
  },
  {
   "cell_type": "markdown",
   "id": "5e01b64c",
   "metadata": {},
   "source": [
    "10-"
   ]
  },
  {
   "cell_type": "code",
   "execution_count": 31,
   "id": "3df3aa6a",
   "metadata": {},
   "outputs": [
    {
     "name": "stdout",
     "output_type": "stream",
     "text": [
      "enter number to add 15 to it:15\n",
      "enter x:5\n",
      "enter y:4\n",
      "30\n",
      "x=5 multiplies to x=4 are =20\n"
     ]
    }
   ],
   "source": [
    "inp = int(input(\"enter number to add 15 to it:\"))\n",
    "inp_x = int(input(\"enter x:\"))\n",
    "inp_y = int(input(\"enter y:\"))\n",
    "\n",
    "add15 = lambda a : a + 15\n",
    "mlut = lambda x , y : x * y\n",
    "\n",
    "print(add15(inp))\n",
    "print(f\"x={inp_x} multiplies to x={inp_y} are ={mlut(inp_x, inp_y)}\")"
   ]
  }
 ],
 "metadata": {
  "kernelspec": {
   "display_name": "Python 3 (ipykernel)",
   "language": "python",
   "name": "python3"
  },
  "language_info": {
   "codemirror_mode": {
    "name": "ipython",
    "version": 3
   },
   "file_extension": ".py",
   "mimetype": "text/x-python",
   "name": "python",
   "nbconvert_exporter": "python",
   "pygments_lexer": "ipython3",
   "version": "3.9.12"
  }
 },
 "nbformat": 4,
 "nbformat_minor": 5
}
