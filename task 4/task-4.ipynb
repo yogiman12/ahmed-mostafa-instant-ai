{
 "cells": [
  {
   "cell_type": "markdown",
   "id": "bf59444f",
   "metadata": {},
   "source": [
    "How to sort dictionary by keys"
   ]
  },
  {
   "cell_type": "code",
   "execution_count": 38,
   "id": "14e02a04",
   "metadata": {},
   "outputs": [
    {
     "data": {
      "text/plain": [
       "{'a': 170, 'c': 110, 'p': 350, 'z': 750}"
      ]
     },
     "execution_count": 38,
     "metadata": {},
     "output_type": "execute_result"
    }
   ],
   "source": [
    "import my_lib\n",
    "\n",
    "my_dict = {\"p\":350,\"z\":750,\"a\":170,\"c\":110}\n",
    "\n",
    "sort_by_key(my_dict)"
   ]
  },
  {
   "cell_type": "markdown",
   "id": "4e1aef8e",
   "metadata": {},
   "source": [
    "stacks"
   ]
  },
  {
   "cell_type": "code",
   "execution_count": 49,
   "id": "c1c1d149",
   "metadata": {},
   "outputs": [
    {
     "name": "stdout",
     "output_type": "stream",
     "text": [
      "if you want exit enter 0\n",
      "Enter value: 1\n",
      "Enter value: 2\n",
      "Enter value: 3\n",
      "Enter value: 0\n"
     ]
    }
   ],
   "source": [
    "list_stack = mystack()"
   ]
  },
  {
   "cell_type": "code",
   "execution_count": 50,
   "id": "d5192862",
   "metadata": {},
   "outputs": [
    {
     "ename": "NameError",
     "evalue": "name 'lib' is not defined",
     "output_type": "error",
     "traceback": [
      "\u001b[1;31m---------------------------------------------------------------------------\u001b[0m",
      "\u001b[1;31mNameError\u001b[0m                                 Traceback (most recent call last)",
      "Input \u001b[1;32mIn [50]\u001b[0m, in \u001b[0;36m<cell line: 1>\u001b[1;34m()\u001b[0m\n\u001b[1;32m----> 1\u001b[0m \u001b[43mlib\u001b[49m\u001b[38;5;241m.\u001b[39mdisplay(list_stack)\n",
      "\u001b[1;31mNameError\u001b[0m: name 'lib' is not defined"
     ]
    }
   ],
   "source": [
    "my_lib.show(list_stack)"
   ]
  },
  {
   "cell_type": "code",
   "execution_count": 51,
   "id": "15c797ca",
   "metadata": {},
   "outputs": [
    {
     "name": "stdout",
     "output_type": "stream",
     "text": [
      "[ 3 2 1 ]\n"
     ]
    }
   ],
   "source": [
    "def show(stack):\n",
    "    print(\"[\",end=\" \")\n",
    "    while stack.qsize():\n",
    "        if stack.qsize() == 1: print(stack.get(), \"]\")\n",
    "        else: print(stack.get(),end=\" \")\n",
    "show(list_stack)"
   ]
  },
  {
   "cell_type": "code",
   "execution_count": null,
   "id": "35aa2783",
   "metadata": {},
   "outputs": [],
   "source": []
  },
  {
   "cell_type": "code",
   "execution_count": null,
   "id": "7f518784",
   "metadata": {},
   "outputs": [],
   "source": []
  },
  {
   "cell_type": "code",
   "execution_count": null,
   "id": "76ee6ba5",
   "metadata": {},
   "outputs": [],
   "source": []
  },
  {
   "cell_type": "code",
   "execution_count": 52,
   "id": "59d69c7b",
   "metadata": {},
   "outputs": [
    {
     "ename": "ModuleNotFoundError",
     "evalue": "No module named 'multiset'",
     "output_type": "error",
     "traceback": [
      "\u001b[1;31m---------------------------------------------------------------------------\u001b[0m",
      "\u001b[1;31mModuleNotFoundError\u001b[0m                       Traceback (most recent call last)",
      "Input \u001b[1;32mIn [52]\u001b[0m, in \u001b[0;36m<cell line: 1>\u001b[1;34m()\u001b[0m\n\u001b[1;32m----> 1\u001b[0m \u001b[38;5;28;01mfrom\u001b[39;00m \u001b[38;5;21;01mmultiset\u001b[39;00m \u001b[38;5;28;01mimport\u001b[39;00m Multiset\n\u001b[0;32m      3\u001b[0m multi_set \u001b[38;5;241m=\u001b[39m Multiset([\u001b[38;5;241m1\u001b[39m,\u001b[38;5;241m2\u001b[39m,\u001b[38;5;241m3\u001b[39m,\u001b[38;5;241m1\u001b[39m,\u001b[38;5;241m4\u001b[39m,\u001b[38;5;241m5\u001b[39m,\u001b[38;5;241m2\u001b[39m,\u001b[38;5;241m4\u001b[39m,\u001b[38;5;241m6\u001b[39m,\u001b[38;5;241m1\u001b[39m])\n\u001b[0;32m      5\u001b[0m multi_set\n",
      "\u001b[1;31mModuleNotFoundError\u001b[0m: No module named 'multiset'"
     ]
    }
   ],
   "source": []
  },
  {
   "cell_type": "code",
   "execution_count": null,
   "id": "2691110c",
   "metadata": {},
   "outputs": [],
   "source": []
  }
 ],
 "metadata": {
  "kernelspec": {
   "display_name": "Python 3 (ipykernel)",
   "language": "python",
   "name": "python3"
  },
  "language_info": {
   "codemirror_mode": {
    "name": "ipython",
    "version": 3
   },
   "file_extension": ".py",
   "mimetype": "text/x-python",
   "name": "python",
   "nbconvert_exporter": "python",
   "pygments_lexer": "ipython3",
   "version": "3.9.12"
  }
 },
 "nbformat": 4,
 "nbformat_minor": 5
}
